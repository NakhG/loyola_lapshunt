{
 "cells": [
  {
   "cell_type": "code",
   "execution_count": 3,
   "metadata": {
    "collapsed": false
   },
   "outputs": [],
   "source": [
    "'''\n",
    "Author: George Nakhleh\n",
    "Date Created: 10/29/2016\n",
    "Note: Please use Python 2.7\n",
    "'''\n",
    "import os\n",
    "import numpy as np\n",
    "import pandas as pd\n",
    "import matplotlib.pyplot as plt\n",
    "%matplotlib inline\n",
    "os.chdir('C:\\\\Users\\\\gnakhleh\\\\Documents\\\\Loyola\\\\lapshunt') #Set location of home dir here.\n",
    "#os.chdir('/Users/Sriram/Desktop/DePaul/Loyola-SAH-Analysis')#location in Mac"
   ]
  },
  {
   "cell_type": "code",
   "execution_count": 8,
   "metadata": {
    "collapsed": false
   },
   "outputs": [],
   "source": [
    "lap_shunt_fl_06_08 = pd.read_stata('LAP_SHUNT_FL2006-2008.dta')"
   ]
  },
  {
   "cell_type": "code",
   "execution_count": 17,
   "metadata": {
    "collapsed": false
   },
   "outputs": [
    {
     "name": "stdout",
     "output_type": "stream",
     "text": [
      "Index([u'KEY', u'CM_AIDS', u'CM_ALCOH', u'CM_ANEMD', u'CM_ARTH', u'CM_BLDLO',\n",
      "       u'CM_CHF', u'CM_CHRNL', u'CM_COAG', u'CM_DEPRE',\n",
      "       ...\n",
      "       u'LIVRHOS', u'LUNGHOS', u'ADMTOT', u'SUROPIP', u'FTRES', u'FTRNTF',\n",
      "       u'_mergeAHA', u'HOS_RESBD', u'HOS_RESBD_QUINT', u'HOS_RESBD_HIGH'],\n",
      "      dtype='object', length=252)\n"
     ]
    }
   ],
   "source": [
    "lap_shunt_fl_06_08.columns"
   ]
  },
  {
   "cell_type": "code",
   "execution_count": 12,
   "metadata": {
    "collapsed": false
   },
   "outputs": [
    {
     "data": {
      "text/plain": [
       "Index([u'KEY', u'CM_AIDS', u'CM_ALCOH', u'CM_ANEMD', u'CM_ARTH', u'CM_BLDLO',\n",
       "       u'CM_CHF', u'CM_CHRNL', u'CM_COAG', u'CM_DEPRE',\n",
       "       ...\n",
       "       u'LIVRHOS', u'LUNGHOS', u'ADMTOT', u'SUROPIP', u'FTRES', u'FTRNTF',\n",
       "       u'_mergeAHA', u'HOS_RESBD', u'HOS_RESBD_QUINT', u'HOS_RESBD_HIGH'],\n",
       "      dtype='object', length=250)"
      ]
     },
     "execution_count": 12,
     "metadata": {},
     "output_type": "execute_result"
    }
   ],
   "source": [
    "lap_shunt_fl_09_13 = pd.read_stata('LAP_SHUNT_FL2009-2013.dta')\n",
    "\n",
    "lap_shunt_fl_09_13.columns"
   ]
  },
  {
   "cell_type": "code",
   "execution_count": 14,
   "metadata": {
    "collapsed": false
   },
   "outputs": [],
   "source": [
    "#Get where the columns match:\n",
    "\n",
    "matching_columns = []\n",
    "for colname in lap_shunt_fl_09_13.columns:\n",
    "    if colname in lap_shunt_fl_06_08.columns:\n",
    "        matching_columns.append(colname)"
   ]
  },
  {
   "cell_type": "code",
   "execution_count": 16,
   "metadata": {
    "collapsed": false
   },
   "outputs": [
    {
     "data": {
      "text/plain": [
       "242"
      ]
     },
     "execution_count": 16,
     "metadata": {},
     "output_type": "execute_result"
    }
   ],
   "source": [
    "len(matching_columns)"
   ]
  },
  {
   "cell_type": "code",
   "execution_count": 18,
   "metadata": {
    "collapsed": false
   },
   "outputs": [
    {
     "data": {
      "text/plain": [
       "['KEY',\n",
       " 'CM_AIDS',\n",
       " 'CM_ALCOH',\n",
       " 'CM_ANEMD',\n",
       " 'CM_ARTH',\n",
       " 'CM_BLDLO',\n",
       " 'CM_CHF',\n",
       " 'CM_CHRNL',\n",
       " 'CM_COAG',\n",
       " 'CM_DEPRE',\n",
       " 'CM_DM',\n",
       " 'CM_DMCX',\n",
       " 'CM_DRUG',\n",
       " 'CM_HTN_C',\n",
       " 'CM_HYPOT',\n",
       " 'CM_LIVER',\n",
       " 'CM_LYMPH',\n",
       " 'CM_LYTES',\n",
       " 'CM_METS',\n",
       " 'CM_NEURO',\n",
       " 'CM_OBESE',\n",
       " 'CM_PARA',\n",
       " 'CM_PERIV',\n",
       " 'CM_PSYCH',\n",
       " 'CM_PULMC',\n",
       " 'CM_RENLF',\n",
       " 'CM_TUMOR',\n",
       " 'CM_ULCER',\n",
       " 'CM_VALVE',\n",
       " 'CM_WGHTL',\n",
       " 'CHG1',\n",
       " 'CHG2',\n",
       " 'CHG3',\n",
       " 'CHG4',\n",
       " 'CHG5',\n",
       " 'CHG6',\n",
       " 'CHG7',\n",
       " 'CHG8',\n",
       " 'CHG9',\n",
       " 'CHG10',\n",
       " 'CHG11',\n",
       " 'CHG12',\n",
       " 'CHG13',\n",
       " 'CHG14',\n",
       " 'CHG15',\n",
       " 'CHG16',\n",
       " 'CHG17',\n",
       " 'CHG18',\n",
       " 'CHG19',\n",
       " 'CHG20',\n",
       " 'CHG21',\n",
       " 'CHG22',\n",
       " 'AGE',\n",
       " 'AHOUR',\n",
       " 'ATYPE',\n",
       " 'AWEEKEND',\n",
       " 'DIED',\n",
       " 'DISPUNIFORM',\n",
       " 'DRG',\n",
       " 'DRGVER',\n",
       " 'DSHOSPID',\n",
       " 'DX1',\n",
       " 'DX2',\n",
       " 'DX3',\n",
       " 'DX4',\n",
       " 'DX5',\n",
       " 'DX6',\n",
       " 'DX7',\n",
       " 'DX8',\n",
       " 'DX9',\n",
       " 'DX10',\n",
       " 'DX11',\n",
       " 'DX12',\n",
       " 'DX13',\n",
       " 'DX14',\n",
       " 'DX15',\n",
       " 'DX16',\n",
       " 'DX17',\n",
       " 'DX18',\n",
       " 'DX19',\n",
       " 'DX20',\n",
       " 'FEMALE',\n",
       " 'HOSPST',\n",
       " 'LOS',\n",
       " 'PAY1',\n",
       " 'PAY1_X',\n",
       " 'PR1',\n",
       " 'PR2',\n",
       " 'PR3',\n",
       " 'PR4',\n",
       " 'PR5',\n",
       " 'PR6',\n",
       " 'PR7',\n",
       " 'PR8',\n",
       " 'PR9',\n",
       " 'PR10',\n",
       " 'PR11',\n",
       " 'PR12',\n",
       " 'PR13',\n",
       " 'PR14',\n",
       " 'PR15',\n",
       " 'PR16',\n",
       " 'PR17',\n",
       " 'PR18',\n",
       " 'PR19',\n",
       " 'PR20',\n",
       " 'PRDAY1',\n",
       " 'PRDAY2',\n",
       " 'PRDAY3',\n",
       " 'PRDAY4',\n",
       " 'PRDAY5',\n",
       " 'PRDAY6',\n",
       " 'PRDAY7',\n",
       " 'PRDAY8',\n",
       " 'PRDAY9',\n",
       " 'PRDAY10',\n",
       " 'PRDAY11',\n",
       " 'PRDAY12',\n",
       " 'PRDAY13',\n",
       " 'PRDAY14',\n",
       " 'PRDAY15',\n",
       " 'PRDAY16',\n",
       " 'PRDAY17',\n",
       " 'PRDAY18',\n",
       " 'PRDAY19',\n",
       " 'PRDAY20',\n",
       " 'PSTATE',\n",
       " 'RACE',\n",
       " 'RACE_X',\n",
       " 'TOTCHG',\n",
       " 'ZIPINC_QRTL',\n",
       " 'ZIP',\n",
       " 'AHAID',\n",
       " 'VisitLink',\n",
       " 'DaysToEvent',\n",
       " 'DRG24',\n",
       " 'DXPOA1',\n",
       " 'DXPOA2',\n",
       " 'DXPOA3',\n",
       " 'DXPOA4',\n",
       " 'DXPOA5',\n",
       " 'DXPOA6',\n",
       " 'DXPOA7',\n",
       " 'DXPOA8',\n",
       " 'DXPOA9',\n",
       " 'DXPOA10',\n",
       " 'DXPOA11',\n",
       " 'DXPOA12',\n",
       " 'DXPOA13',\n",
       " 'DXPOA14',\n",
       " 'DXPOA15',\n",
       " 'DXPOA16',\n",
       " 'DXPOA17',\n",
       " 'DXPOA18',\n",
       " 'DXPOA19',\n",
       " 'DXPOA20',\n",
       " 'DRG23',\n",
       " 'DRG_TYPE',\n",
       " 'SHUNT',\n",
       " 'LAP',\n",
       " 'LAP_SHUNT',\n",
       " 'PT_INT',\n",
       " 'PTINTEREST',\n",
       " 'DaysToEventIndex',\n",
       " 'INDEX_VISIT',\n",
       " 'IndexDays',\n",
       " 'DaysFromIndex',\n",
       " 'PT_era',\n",
       " 'SHUNT_BAD',\n",
       " 'NSQIP_SSI',\n",
       " 'BAD',\n",
       " 'BAD30',\n",
       " 'FINALBAD30',\n",
       " 'RACE1',\n",
       " 'insurance',\n",
       " 'ynch1',\n",
       " 'ynch2',\n",
       " 'ynch3',\n",
       " 'ynch4',\n",
       " 'ynch5',\n",
       " 'ynch6',\n",
       " 'ynch7',\n",
       " 'ynch8',\n",
       " 'ynch9',\n",
       " 'ynch10',\n",
       " 'ynch11',\n",
       " 'ynch12',\n",
       " 'ynch13',\n",
       " 'ynch14',\n",
       " 'ynch15',\n",
       " 'ynch16',\n",
       " 'ynch17',\n",
       " 'weightch1',\n",
       " 'weightch2',\n",
       " 'weightch3',\n",
       " 'weightch4',\n",
       " 'weightch5',\n",
       " 'weightch6',\n",
       " 'weightch7',\n",
       " 'weightch8',\n",
       " 'weightch9',\n",
       " 'weightch10',\n",
       " 'weightch11',\n",
       " 'weightch12',\n",
       " 'weightch13',\n",
       " 'weightch14',\n",
       " 'weightch15',\n",
       " 'weightch16',\n",
       " 'weightch17',\n",
       " 'wcharlsum',\n",
       " 'charlindex',\n",
       " 'smchindx',\n",
       " 'ID',\n",
       " 'MNAME',\n",
       " 'BSC',\n",
       " 'MCRNUM',\n",
       " 'MAPP1',\n",
       " 'MAPP2',\n",
       " 'MAPP8',\n",
       " 'MSICBD',\n",
       " 'HOSPBD',\n",
       " 'CHTHHOS',\n",
       " 'TRAUML90',\n",
       " 'ENDOUHOS',\n",
       " 'ENDOAHOS',\n",
       " 'ENDORHOS',\n",
       " 'ONCOLHOS',\n",
       " 'IMRIHOS',\n",
       " 'MSCTGHOS',\n",
       " 'PETHOS',\n",
       " 'HARTHOS',\n",
       " 'KDNYHOS',\n",
       " 'LIVRHOS',\n",
       " 'LUNGHOS',\n",
       " 'ADMTOT',\n",
       " 'SUROPIP',\n",
       " 'FTRES',\n",
       " 'FTRNTF',\n",
       " '_mergeAHA',\n",
       " 'HOS_RESBD',\n",
       " 'HOS_RESBD_QUINT',\n",
       " 'HOS_RESBD_HIGH']"
      ]
     },
     "execution_count": 18,
     "metadata": {},
     "output_type": "execute_result"
    }
   ],
   "source": [
    "matching_columns"
   ]
  },
  {
   "cell_type": "code",
   "execution_count": 19,
   "metadata": {
    "collapsed": false
   },
   "outputs": [
    {
     "data": {
      "text/plain": [
       "1.0    17211\n",
       "Name: PT_INT, dtype: int64"
      ]
     },
     "execution_count": 19,
     "metadata": {},
     "output_type": "execute_result"
    }
   ],
   "source": [
    "lap_shunt_fl_06_08.PT_INT.value_counts()"
   ]
  },
  {
   "cell_type": "markdown",
   "metadata": {},
   "source": [
    "Variables we are interested in:\n",
    "\n",
    "LAP_SHUNT --> patients who had a shunt placed with laparascopic assistance\n",
    "\n",
    "SHUNT_BAD --> shunt infection and/or malfunction\n",
    "\n",
    "BAD --> shunt malfunction/infection or any SSI (surgical site infection)\n",
    "\n",
    "BAD30 or FINALBAD30 --> 30 day shunt infection, malfunction, or any SSI\n"
   ]
  }
 ],
 "metadata": {
  "kernelspec": {
   "display_name": "Python 2",
   "language": "python",
   "name": "python2"
  },
  "language_info": {
   "codemirror_mode": {
    "name": "ipython",
    "version": 2
   },
   "file_extension": ".py",
   "mimetype": "text/x-python",
   "name": "python",
   "nbconvert_exporter": "python",
   "pygments_lexer": "ipython2",
   "version": "2.7.11"
  }
 },
 "nbformat": 4,
 "nbformat_minor": 0
}
